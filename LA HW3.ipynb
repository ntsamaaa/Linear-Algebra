{
 "cells": [
  {
   "cell_type": "code",
   "execution_count": 1,
   "metadata": {},
   "outputs": [],
   "source": [
    "%matplotlib inline\n",
    "import numpy as np\n",
    "import sympy as sp"
   ]
  },
  {
   "cell_type": "code",
   "execution_count": 9,
   "metadata": {},
   "outputs": [],
   "source": [
    "meow=sp.Matrix([[1,0,0,0,1], [0,1,5,0,17], [0,0,0,1,4]])"
   ]
  },
  {
   "cell_type": "code",
   "execution_count": 10,
   "metadata": {},
   "outputs": [
    {
     "data": {
      "text/latex": [
       "$\\displaystyle \\left[\\begin{matrix}1 & 0 & 0 & 0 & 1\\\\0 & 1 & 5 & 0 & 17\\\\0 & 0 & 0 & 1 & 4\\end{matrix}\\right]$"
      ],
      "text/plain": [
       "Matrix([\n",
       "[1, 0, 0, 0,  1],\n",
       "[0, 1, 5, 0, 17],\n",
       "[0, 0, 0, 1,  4]])"
      ]
     },
     "execution_count": 10,
     "metadata": {},
     "output_type": "execute_result"
    }
   ],
   "source": [
    "meow"
   ]
  },
  {
   "cell_type": "code",
   "execution_count": 11,
   "metadata": {},
   "outputs": [],
   "source": [
    "woof0=sp.Matrix([[meow.row(0)*7+meow.row(1)*6+meow.row(2)*2]])"
   ]
  },
  {
   "cell_type": "code",
   "execution_count": 12,
   "metadata": {},
   "outputs": [
    {
     "data": {
      "text/latex": [
       "$\\displaystyle \\left[\\begin{matrix}\\left[\\begin{matrix}7 & 6 & 30 & 2 & 117\\end{matrix}\\right]\\end{matrix}\\right]$"
      ],
      "text/plain": [
       "Matrix([[Matrix([[7, 6, 30, 2, 117]])]])"
      ]
     },
     "execution_count": 12,
     "metadata": {},
     "output_type": "execute_result"
    }
   ],
   "source": [
    "woof0"
   ]
  },
  {
   "cell_type": "code",
   "execution_count": 15,
   "metadata": {},
   "outputs": [],
   "source": [
    "woof1=sp.Matrix([[meow.row(0)*2+meow.row(1)*2+meow.row(2)*3]])"
   ]
  },
  {
   "cell_type": "code",
   "execution_count": 16,
   "metadata": {},
   "outputs": [
    {
     "data": {
      "text/latex": [
       "$\\displaystyle \\left[\\begin{matrix}\\left[\\begin{matrix}2 & 2 & 10 & 3 & 48\\end{matrix}\\right]\\end{matrix}\\right]$"
      ],
      "text/plain": [
       "Matrix([[Matrix([[2, 2, 10, 3, 48]])]])"
      ]
     },
     "execution_count": 16,
     "metadata": {},
     "output_type": "execute_result"
    }
   ],
   "source": [
    "woof1"
   ]
  },
  {
   "cell_type": "code",
   "execution_count": 17,
   "metadata": {},
   "outputs": [],
   "source": [
    "woof2=sp.Matrix([[meow.row(0)*3+meow.row(1)*4+meow.row(2)*3]])"
   ]
  },
  {
   "cell_type": "code",
   "execution_count": 18,
   "metadata": {},
   "outputs": [
    {
     "data": {
      "text/latex": [
       "$\\displaystyle \\left[\\begin{matrix}\\left[\\begin{matrix}3 & 4 & 20 & 3 & 83\\end{matrix}\\right]\\end{matrix}\\right]$"
      ],
      "text/plain": [
       "Matrix([[Matrix([[3, 4, 20, 3, 83]])]])"
      ]
     },
     "execution_count": 18,
     "metadata": {},
     "output_type": "execute_result"
    }
   ],
   "source": [
    "woof2"
   ]
  },
  {
   "cell_type": "code",
   "execution_count": 19,
   "metadata": {},
   "outputs": [],
   "source": [
    "woof=sp.Matrix([woof0, woof1, woof2])"
   ]
  },
  {
   "cell_type": "code",
   "execution_count": 20,
   "metadata": {},
   "outputs": [
    {
     "data": {
      "text/latex": [
       "$\\displaystyle \\left[\\begin{matrix}\\left[\\begin{matrix}7 & 6 & 30 & 2 & 117\\end{matrix}\\right]\\\\\\left[\\begin{matrix}2 & 2 & 10 & 3 & 48\\end{matrix}\\right]\\\\\\left[\\begin{matrix}3 & 4 & 20 & 3 & 83\\end{matrix}\\right]\\end{matrix}\\right]$"
      ],
      "text/plain": [
       "Matrix([\n",
       "[Matrix([[7, 6, 30, 2, 117]])],\n",
       "[ Matrix([[2, 2, 10, 3, 48]])],\n",
       "[ Matrix([[3, 4, 20, 3, 83]])]])"
      ]
     },
     "execution_count": 20,
     "metadata": {},
     "output_type": "execute_result"
    }
   ],
   "source": [
    "woof"
   ]
  },
  {
   "cell_type": "code",
   "execution_count": null,
   "metadata": {},
   "outputs": [],
   "source": []
  }
 ],
 "metadata": {
  "kernelspec": {
   "display_name": "Python 3",
   "language": "python",
   "name": "python3"
  },
  "language_info": {
   "codemirror_mode": {
    "name": "ipython",
    "version": 3
   },
   "file_extension": ".py",
   "mimetype": "text/x-python",
   "name": "python",
   "nbconvert_exporter": "python",
   "pygments_lexer": "ipython3",
   "version": "3.7.4"
  }
 },
 "nbformat": 4,
 "nbformat_minor": 2
}
