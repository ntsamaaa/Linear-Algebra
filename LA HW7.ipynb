{
 "cells": [
  {
   "cell_type": "code",
   "execution_count": 1,
   "metadata": {},
   "outputs": [],
   "source": [
    "%matplotlib inline\n",
    "import sympy as sp"
   ]
  },
  {
   "cell_type": "markdown",
   "metadata": {},
   "source": [
    "## Consider a transformation matrix $A$"
   ]
  },
  {
   "cell_type": "code",
   "execution_count": 2,
   "metadata": {},
   "outputs": [
    {
     "data": {
      "text/latex": [
       "$\\displaystyle \\left[\\begin{matrix}1 & 2 & 3\\\\4 & 7 & 8\\\\5 & 26 & 4\\\\7 & 5 & 1\\end{matrix}\\right]$"
      ],
      "text/plain": [
       "Matrix([\n",
       "[1,  2, 3],\n",
       "[4,  7, 8],\n",
       "[5, 26, 4],\n",
       "[7,  5, 1]])"
      ]
     },
     "execution_count": 2,
     "metadata": {},
     "output_type": "execute_result"
    }
   ],
   "source": [
    "A=sp.Matrix([[1, 2, 3], [4, 7, 8], [5, 26, 4], [7, 5, 1]])\n",
    "A"
   ]
  },
  {
   "cell_type": "markdown",
   "metadata": {},
   "source": [
    "## Let $B3$ be a canonical basis in $ \\mathbb{R}^3$ , and $B4$ be a canonical basis in $ \\mathbb{R}^4$\n",
    "### (define the transformation matrix $A = [\\Phi_A]^{B4}_{B3} $ )"
   ]
  },
  {
   "cell_type": "code",
   "execution_count": 3,
   "metadata": {},
   "outputs": [],
   "source": [
    "B3=sp.eye(3)\n",
    "B4=sp.eye(4)"
   ]
  },
  {
   "cell_type": "markdown",
   "metadata": {},
   "source": [
    "## Then, we define two matrices $C3$ and $C4$ as another basis in $\\mathbb{R}^3$ and $\\mathbb{R}^4$ respectively"
   ]
  },
  {
   "cell_type": "code",
   "execution_count": 5,
   "metadata": {},
   "outputs": [],
   "source": [
    "C3=sp.Matrix([[1, 1, 0], [1, 0, 1], [0, 1, 1]])\n",
    "C4=sp.Matrix([[1, 1, 1, 0], [1, 1, 0, 1], [1, 0, 1, 1], [0, 1, 1, 1]])"
   ]
  },
  {
   "cell_type": "code",
   "execution_count": 7,
   "metadata": {},
   "outputs": [
    {
     "data": {
      "text/latex": [
       "$\\displaystyle \\left[\\begin{matrix}1 & 1 & 0\\\\1 & 0 & 1\\\\0 & 1 & 1\\end{matrix}\\right]$"
      ],
      "text/plain": [
       "Matrix([\n",
       "[1, 1, 0],\n",
       "[1, 0, 1],\n",
       "[0, 1, 1]])"
      ]
     },
     "execution_count": 7,
     "metadata": {},
     "output_type": "execute_result"
    }
   ],
   "source": [
    "C3"
   ]
  },
  {
   "cell_type": "code",
   "execution_count": 8,
   "metadata": {},
   "outputs": [
    {
     "data": {
      "text/latex": [
       "$\\displaystyle \\left[\\begin{matrix}1 & 1 & 1 & 0\\\\1 & 1 & 0 & 1\\\\1 & 0 & 1 & 1\\\\0 & 1 & 1 & 1\\end{matrix}\\right]$"
      ],
      "text/plain": [
       "Matrix([\n",
       "[1, 1, 1, 0],\n",
       "[1, 1, 0, 1],\n",
       "[1, 0, 1, 1],\n",
       "[0, 1, 1, 1]])"
      ]
     },
     "execution_count": 8,
     "metadata": {},
     "output_type": "execute_result"
    }
   ],
   "source": [
    "C4"
   ]
  },
  {
   "cell_type": "markdown",
   "metadata": {},
   "source": [
    "## Find the transformation matrix $ A2 = [\\Phi_A]^{C4}_{C3} $"
   ]
  },
  {
   "cell_type": "markdown",
   "metadata": {},
   "source": [
    "### Sol 1. $ [\\Phi_A]^{C4}_{C3} =\\left[ \\begin{array}{ccc}{[\\Phi_A (\\ C3.col(0)\\ ) ]_{C4}}&{[\\Phi_A (\\ C3.col(1)\\ ) ]_{C4}}&{[\\Phi_A (\\ C3.col(2)\\ ) ]_{C4}}\\end{array} \\right ]$"
   ]
  },
  {
   "cell_type": "markdown",
   "metadata": {},
   "source": [
    "#### column 1:"
   ]
  },
  {
   "cell_type": "code",
   "execution_count": 11,
   "metadata": {},
   "outputs": [
    {
     "data": {
      "text/latex": [
       "$\\displaystyle \\left[\\begin{matrix}7\\\\-12\\\\8\\\\16\\end{matrix}\\right]$"
      ],
      "text/plain": [
       "Matrix([\n",
       "[  7],\n",
       "[-12],\n",
       "[  8],\n",
       "[ 16]])"
      ]
     },
     "execution_count": 11,
     "metadata": {},
     "output_type": "execute_result"
    }
   ],
   "source": [
    "column1 = C4.inv()@(A@(C3.col(0)))\n",
    "column1"
   ]
  },
  {
   "cell_type": "markdown",
   "metadata": {},
   "source": [
    "#### column 2:"
   ]
  },
  {
   "cell_type": "code",
   "execution_count": 12,
   "metadata": {},
   "outputs": [
    {
     "data": {
      "text/latex": [
       "$\\displaystyle \\left[\\begin{matrix}3\\\\2\\\\-1\\\\7\\end{matrix}\\right]$"
      ],
      "text/plain": [
       "Matrix([\n",
       "[ 3],\n",
       "[ 2],\n",
       "[-1],\n",
       "[ 7]])"
      ]
     },
     "execution_count": 12,
     "metadata": {},
     "output_type": "execute_result"
    }
   ],
   "source": [
    "column2 = C4.inv()@(A@(C3.col(1)))\n",
    "column2"
   ]
  },
  {
   "cell_type": "markdown",
   "metadata": {},
   "source": [
    "#### column 3:"
   ]
  },
  {
   "cell_type": "code",
   "execution_count": 13,
   "metadata": {},
   "outputs": [
    {
     "data": {
      "text/latex": [
       "$\\displaystyle \\left[\\begin{matrix}\\frac{38}{3}\\\\- \\frac{34}{3}\\\\\\frac{11}{3}\\\\\\frac{41}{3}\\end{matrix}\\right]$"
      ],
      "text/plain": [
       "Matrix([\n",
       "[ 38/3],\n",
       "[-34/3],\n",
       "[ 11/3],\n",
       "[ 41/3]])"
      ]
     },
     "execution_count": 13,
     "metadata": {},
     "output_type": "execute_result"
    }
   ],
   "source": [
    "column3 = C4.inv()@(A@(C3.col(2)))\n",
    "column3"
   ]
  },
  {
   "cell_type": "code",
   "execution_count": 19,
   "metadata": {},
   "outputs": [
    {
     "data": {
      "text/latex": [
       "$\\displaystyle \\left[\\begin{matrix}7 & 3 & \\frac{38}{3}\\\\-12 & 2 & - \\frac{34}{3}\\\\8 & -1 & \\frac{11}{3}\\\\16 & 7 & \\frac{41}{3}\\end{matrix}\\right]$"
      ],
      "text/plain": [
       "Matrix([\n",
       "[  7,  3,  38/3],\n",
       "[-12,  2, -34/3],\n",
       "[  8, -1,  11/3],\n",
       "[ 16,  7,  41/3]])"
      ]
     },
     "execution_count": 19,
     "metadata": {},
     "output_type": "execute_result"
    }
   ],
   "source": [
    "A2bysol1=column1@B3.row(0)+column2@B3.row(1)+column3@B3.row(2)\n",
    "A2bysol1"
   ]
  },
  {
   "cell_type": "markdown",
   "metadata": {},
   "source": [
    "### Sol 2. $[\\Phi_A]^{C4}_{C3} = T^{-1} [\\Phi_A]^{B4}_{B3} S$$\\ $   ,$\\ $   $T^{-1} := [id_{\\mathbb{R}^3}]^{C4}_{B4}\\ $    , and  $\\ S := [id_{\\mathbb{R}^4}]^{B3}_{C3}$"
   ]
  },
  {
   "cell_type": "markdown",
   "metadata": {},
   "source": [
    "#### $T^{-1}:$"
   ]
  },
  {
   "cell_type": "code",
   "execution_count": 23,
   "metadata": {},
   "outputs": [
    {
     "data": {
      "text/latex": [
       "$\\displaystyle \\left[\\begin{matrix}\\frac{1}{3} & \\frac{1}{3} & \\frac{1}{3} & - \\frac{2}{3}\\\\\\frac{1}{3} & \\frac{1}{3} & - \\frac{2}{3} & \\frac{1}{3}\\\\\\frac{1}{3} & - \\frac{2}{3} & \\frac{1}{3} & \\frac{1}{3}\\\\- \\frac{2}{3} & \\frac{1}{3} & \\frac{1}{3} & \\frac{1}{3}\\end{matrix}\\right]$"
      ],
      "text/plain": [
       "Matrix([\n",
       "[ 1/3,  1/3,  1/3, -2/3],\n",
       "[ 1/3,  1/3, -2/3,  1/3],\n",
       "[ 1/3, -2/3,  1/3,  1/3],\n",
       "[-2/3,  1/3,  1/3,  1/3]])"
      ]
     },
     "execution_count": 23,
     "metadata": {},
     "output_type": "execute_result"
    }
   ],
   "source": [
    "Tinv=C4.inv()\n",
    "Tinv"
   ]
  },
  {
   "cell_type": "markdown",
   "metadata": {},
   "source": [
    "#### $S:$"
   ]
  },
  {
   "cell_type": "code",
   "execution_count": 24,
   "metadata": {},
   "outputs": [
    {
     "data": {
      "text/latex": [
       "$\\displaystyle \\left[\\begin{matrix}1 & 1 & 0\\\\1 & 0 & 1\\\\0 & 1 & 1\\end{matrix}\\right]$"
      ],
      "text/plain": [
       "Matrix([\n",
       "[1, 1, 0],\n",
       "[1, 0, 1],\n",
       "[0, 1, 1]])"
      ]
     },
     "execution_count": 24,
     "metadata": {},
     "output_type": "execute_result"
    }
   ],
   "source": [
    "S=C3\n",
    "S"
   ]
  },
  {
   "cell_type": "code",
   "execution_count": 25,
   "metadata": {},
   "outputs": [
    {
     "data": {
      "text/latex": [
       "$\\displaystyle \\left[\\begin{matrix}7 & 3 & \\frac{38}{3}\\\\-12 & 2 & - \\frac{34}{3}\\\\8 & -1 & \\frac{11}{3}\\\\16 & 7 & \\frac{41}{3}\\end{matrix}\\right]$"
      ],
      "text/plain": [
       "Matrix([\n",
       "[  7,  3,  38/3],\n",
       "[-12,  2, -34/3],\n",
       "[  8, -1,  11/3],\n",
       "[ 16,  7,  41/3]])"
      ]
     },
     "execution_count": 25,
     "metadata": {},
     "output_type": "execute_result"
    }
   ],
   "source": [
    "A2bysol2=Tinv@A@S\n",
    "A2bysol2"
   ]
  },
  {
   "cell_type": "markdown",
   "metadata": {},
   "source": [
    "### Compare:"
   ]
  },
  {
   "cell_type": "code",
   "execution_count": 26,
   "metadata": {},
   "outputs": [
    {
     "data": {
      "text/plain": [
       "True"
      ]
     },
     "execution_count": 26,
     "metadata": {},
     "output_type": "execute_result"
    }
   ],
   "source": [
    "A2bysol1==A2bysol2"
   ]
  },
  {
   "cell_type": "code",
   "execution_count": null,
   "metadata": {},
   "outputs": [],
   "source": []
  }
 ],
 "metadata": {
  "kernelspec": {
   "display_name": "Python 3",
   "language": "python",
   "name": "python3"
  },
  "language_info": {
   "codemirror_mode": {
    "name": "ipython",
    "version": 3
   },
   "file_extension": ".py",
   "mimetype": "text/x-python",
   "name": "python",
   "nbconvert_exporter": "python",
   "pygments_lexer": "ipython3",
   "version": "3.7.4"
  }
 },
 "nbformat": 4,
 "nbformat_minor": 2
}
